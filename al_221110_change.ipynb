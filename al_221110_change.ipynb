{
 "cells": [
  {
   "cell_type": "code",
   "execution_count": 5,
   "metadata": {},
   "outputs": [
    {
     "name": "stdout",
     "output_type": "stream",
     "text": [
      "-1\n"
     ]
    }
   ],
   "source": [
    "\" 거스름돈 \"\n",
    "\n",
    "n = int(input())\n",
    "cnt = 0\n",
    "\n",
    "if n%5 == 0: # 15\n",
    "    cnt += n//5\n",
    "    print(cnt)\n",
    "elif:\n",
    "    n -= 5\n",
    "    cnt += 1\n",
    "\n",
    "    if n%2 == 0:\n",
    "        cnt  += n//2\n",
    "\n",
    "        print(cnt)\n",
    "    else:\n",
    "        print(-1)"
   ]
  },
  {
   "cell_type": "code",
   "execution_count": 6,
   "metadata": {},
   "outputs": [
    {
     "name": "stdout",
     "output_type": "stream",
     "text": [
      "7\n"
     ]
    }
   ],
   "source": [
    "\" 다이나믹 알고리즘 \"\n",
    "\n",
    "n = int(input())\n",
    "dp = [-1]*(n+1)\n",
    "dp[0] = 0\n",
    "\n",
    "for i in range(1, n+1):\n",
    "    if i >= 2 and dp[i-2] > -1:\n",
    "        if dp[i] == -1:\n",
    "            dp[i] = (dp[i-2]+1)\n",
    "        else:\n",
    "            min(dp[i-2]+1, dp[i])\n",
    "    if i >= 5 and dp[i-5] > -1:\n",
    "        if dp[i] == -1:\n",
    "            dp[i] = (dp[i-5]+1)\n",
    "        else:\n",
    "            min(dp[i-5]+1, dp[i])\n",
    "print(dp[n])"
   ]
  },
  {
   "cell_type": "code",
   "execution_count": 7,
   "metadata": {},
   "outputs": [
    {
     "name": "stdout",
     "output_type": "stream",
     "text": [
      "4\n"
     ]
    }
   ],
   "source": [
    "\" 다이나믹 프로그래밍: 거스름돈 \"\n",
    "\n",
    "n = int(input())\n",
    "dp = [-1, -1, 1, -1, 2, 1, 3, 2, 4, 3] # 총 cnt 값임 : 0~9 \n",
    "for i in range(10, n+1):\n",
    "    dp.append(dp[i-5]+1) # 5원짜리는 5번째 이전의 값에서 + 1 cnt 해주면 됨\n",
    "\n",
    "print(dp[n])"
   ]
  },
  {
   "cell_type": "code",
   "execution_count": 11,
   "metadata": {},
   "outputs": [
    {
     "name": "stdout",
     "output_type": "stream",
     "text": [
      "4\n"
     ]
    }
   ],
   "source": [
    "\" 수학적접근: 거스름돈 \"\n",
    "n = int(input())\n",
    "\n",
    "cnt = 0\n",
    "i = 0\n",
    "while True:\n",
    "    if n%5==0:\n",
    "        cnt += n//5\n",
    "        break\n",
    "    else:\n",
    "        n -= 2 # 5의 배수가 될때까지 <- -5를 하는 것의 역발상 : 이렇게 하면 if 문 다시 타고, 안되면 다시 -2 해주니 ok\n",
    "        cnt += 1\n",
    "    \n",
    "    if n < 0: # 2 로 계속 빼주었는데 음수 나올 경우, 계산 불가 \n",
    "        break\n",
    "    \n",
    "if n < 0:\n",
    "    print(-1)\n",
    "else:\n",
    "    print(cnt)"
   ]
  },
  {
   "cell_type": "code",
   "execution_count": 9,
   "metadata": {},
   "outputs": [
    {
     "name": "stdout",
     "output_type": "stream",
     "text": [
      "1\n"
     ]
    }
   ],
   "source": [
    "\" 1로 만들기 \"\n",
    "\n",
    "n = int(input())\n",
    "d = [0]*(n+1)\n",
    "\n",
    "for i in range(2, n+1):\n",
    "    d[i] = d[i-1] + 1 \n",
    "    if i%3 == 0:\n",
    "        d[i] = min(d[i], d[i//3]+1)\n",
    "    if i%2 == 0:\n",
    "        d[i] = min(d[i], d[i//2]+1)\n",
    "print(d[n])"
   ]
  },
  {
   "cell_type": "code",
   "execution_count": 10,
   "metadata": {},
   "outputs": [
    {
     "name": "stdout",
     "output_type": "stream",
     "text": [
      "3\n"
     ]
    }
   ],
   "source": [
    "\" 다이나믹 프로그래밍: 피보나치 수열 \"\n",
    "def fibo(x):\n",
    "    if x ==1 or x ==2:\n",
    "        return 1\n",
    "    return fibo(x-1) + fibo(x-2)\n",
    "\n",
    "print(fibo(4))"
   ]
  },
  {
   "cell_type": "code",
   "execution_count": 11,
   "metadata": {},
   "outputs": [
    {
     "name": "stdout",
     "output_type": "stream",
     "text": [
      "218922995834555169026\n"
     ]
    }
   ],
   "source": [
    "\" 다이나믹 프로그래밍(탑다운): 피보나치 수열-메모이제이션(Memoization) \"\n",
    "d = [0]*100\n",
    "\n",
    "def fibo(x):\n",
    "    if x ==1 or x ==2:\n",
    "        return 1\n",
    "    if d[x] != 0:\n",
    "        return d[x]\n",
    "    d[x] = fibo(x-1) + fibo(x-2)\n",
    "    return d[x]\n",
    "\n",
    "print(fibo(99))"
   ]
  },
  {
   "cell_type": "code",
   "execution_count": 12,
   "metadata": {},
   "outputs": [
    {
     "name": "stdout",
     "output_type": "stream",
     "text": [
      "218922995834555169026\n"
     ]
    }
   ],
   "source": [
    "\" 다이나믹 프로그래밍(보텀업) \"\n",
    "d = [0]*100\n",
    "\n",
    "d[1] = 1\n",
    "d[2] = 1\n",
    "n = 99\n",
    "\n",
    "for i in range(3, n+1):\n",
    "    d[i] = d[i-1] + d[i-2]\n",
    "\n",
    "print(d[n])\n"
   ]
  },
  {
   "cell_type": "code",
   "execution_count": null,
   "metadata": {},
   "outputs": [],
   "source": []
  }
 ],
 "metadata": {
  "kernelspec": {
   "display_name": "Python 3.8.8 ('base')",
   "language": "python",
   "name": "python3"
  },
  "language_info": {
   "codemirror_mode": {
    "name": "ipython",
    "version": 3
   },
   "file_extension": ".py",
   "mimetype": "text/x-python",
   "name": "python",
   "nbconvert_exporter": "python",
   "pygments_lexer": "ipython3",
   "version": "3.8.8"
  },
  "orig_nbformat": 4,
  "vscode": {
   "interpreter": {
    "hash": "ad2bdc8ecc057115af97d19610ffacc2b4e99fae6737bb82f5d7fb13d2f2c186"
   }
  }
 },
 "nbformat": 4,
 "nbformat_minor": 2
}
